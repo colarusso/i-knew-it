{
 "cells": [
  {
   "cell_type": "markdown",
   "id": "0efda6be",
   "metadata": {},
   "source": [
    "# I knew it!\n",
    "\n",
    "Have you ever wanted to show that you knew something on a certain date, but you wanted to keep it a secret until the right time? If so, fork this repo.\n",
    "\n",
    "It allows you to run a string of text or file through a [one-way hash function](https://en.wikipedia.org/wiki/Cryptographic_hash_function). You can then give the hash to the person you want to convince or publish the hash somewhere public where you don't have the ability to edit the timestamp. Then when you want to \"show your cards,\" you point folks to that hash and this code after giving them a copy of the text/file. They can run it through the hash function and compare the output to confirm you _knew it all along_. ;)\n",
    "\n",
    "Alternatively, set `save=1`. This will save each hash to your repo as a text file. You can then commit and push your changes for everyone to see. The problem with this approach is that someone has to be watching the repo in real-times as I think the timestamps on GitHub aren't guaranteed to be correct. That is, in some cases, I think you can predate timestamps. But if the person you want to convince is watching the repo and keeping track, they'll know when you published it. "
   ]
  },
  {
   "cell_type": "code",
   "execution_count": 83,
   "id": "7b24976f",
   "metadata": {},
   "outputs": [],
   "source": [
    "import hashlib\n",
    "\n",
    "def hashme(w):\n",
    "    h = hashlib.md5(w)\n",
    "    return h.hexdigest()\n",
    "\n",
    "def i_knew_it(text,file=0,save=0):\n",
    "    # set file=1 if you want to hash a file\n",
    "    # when hashing a file, text = the file's location and name\n",
    "    text = text.strip()\n",
    "    if file==1:\n",
    "        print(\"Reading file...\")\n",
    "        with open(text, mode='rb') as file: \n",
    "            fileContent = file.read()\n",
    "        hash_ = hashme(fileContent)\n",
    "    else:\n",
    "        hash_ = hashme(text.encode('utf-8'))\n",
    "\n",
    "    if save==1:\n",
    "        with open(\"%s.txt\"%hash_, \"w\") as text_file:\n",
    "            text_file.write(hash_)\n",
    "    \n",
    "    print(\"Hash: \"+hash_)"
   ]
  },
  {
   "cell_type": "markdown",
   "id": "03df839f",
   "metadata": {},
   "source": [
    "Replace \"Hello world!\" below and run. When reading in a file, set `file=1` and provide the file's path and name."
   ]
  },
  {
   "cell_type": "code",
   "execution_count": 84,
   "id": "c8d2bb53",
   "metadata": {},
   "outputs": [
    {
     "name": "stdout",
     "output_type": "stream",
     "text": [
      "Hash: 86fb269d190d2c85f6e0468ceca42a20\n"
     ]
    }
   ],
   "source": [
    "i_knew_it(\"Hello world!\",file=0,save=0)"
   ]
  },
  {
   "cell_type": "code",
   "execution_count": null,
   "id": "a98105b1",
   "metadata": {},
   "outputs": [],
   "source": []
  }
 ],
 "metadata": {
  "kernelspec": {
   "display_name": "Python 3",
   "language": "python",
   "name": "python3"
  },
  "language_info": {
   "codemirror_mode": {
    "name": "ipython",
    "version": 3
   },
   "file_extension": ".py",
   "mimetype": "text/x-python",
   "name": "python",
   "nbconvert_exporter": "python",
   "pygments_lexer": "ipython3",
   "version": "3.8.8"
  }
 },
 "nbformat": 4,
 "nbformat_minor": 5
}
