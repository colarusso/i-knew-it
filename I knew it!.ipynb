{
 "cells": [
  {
   "cell_type": "markdown",
   "id": "d856ea92",
   "metadata": {},
   "source": [
    "# I knew it!\n",
    "\n",
    "Have you ever wanted to show that you knew something on a certain date, but you wanted to keep it a secret until the right time? If so, fork this repo.\n",
    "\n",
    "It allows you to run a string of text or file through a [one-way hash](https://en.wikipedia.org/wiki/Cryptographic_hash_function) which gets written to a csv in this repo. After this happens, commit your changes and push to your repo. In the future, you can show that you had that string of text or file by asking folks to run it through the same hash function and comparing the output to the public time-stamped record on your repo. For ease of use, this tool pairs your hash with a date. Keep in mind, however, that this isn't what will convince folks. Rather, it's GitHub's timestamp. So, don't forget to commit and push.\n",
    "\n",
    "Alternatively, you could run your content through this tool and publish the hash somewhere public, preferably with a timestamp. You could then point folks to this tool and the hash function to confirm you knew it all along. ;)"
   ]
  },
  {
   "cell_type": "code",
   "execution_count": null,
   "id": "bb61a1a4",
   "metadata": {},
   "outputs": [],
   "source": [
    "import pandas as pd\n",
    "from datetime import date\n",
    "import hashlib\n",
    "\n",
    "def hashme(w):\n",
    "    h = hashlib.md5(w.encode('utf-8'))\n",
    "    return h.hexdigest()\n",
    "\n",
    "def i_knew_it(save=0):\n",
    "    try:\n",
    "        df = pd.read_csv(\"record.csv\")\n",
    "    except:\n",
    "        df = pd.DataFrame([],columns=[\"hash\",\"date\"])\n",
    "        df.to_csv(\"record.csv\", index=False, encoding=\"utf-8\")\n",
    "    \n",
    "    today = date.today().strftime(\"%Y-%m-%d\")\n",
    "    print(\"Text (t) or File (f)?\")\n",
    "    entry = input()\n",
    "    if entry.lower() == \"t\":\n",
    "        print(\"\\nEnter the text you want to add/check.\")\n",
    "        x = input()\n",
    "        hash_ = hashme(x.strip())\n",
    "    elif entry.lower() == \"f\":\n",
    "        print(\"\\nEnter the path and filename of the file you want to add/check.\")\n",
    "        file = input()\n",
    "        with open(file, mode='rb') as file: \n",
    "            fileContent = file.read()\n",
    "        hash_ = hashme(fileContent.decode(\"utf-8\"))\n",
    "    else:\n",
    "        hash_ = None\n",
    "        print(\"\\nPlease choose to enter/test either text or a file.\")\n",
    "\n",
    "    if hash_ != None:\n",
    "        if hash_!=\"d41d8cd98f00b204e9800998ecf8427e\": # that's the hash for an empty entry    \n",
    "            print(\"\\nHash is: \"+hash_)\n",
    "\n",
    "            if len(df[df[\"hash\"]==hash_])>0:\n",
    "                print(\"\\n########################\")\n",
    "                print(\"  Known on %s!\"%df[df[\"hash\"]==hash_][\"date\"].values[0])\n",
    "                print(\"########################\")\n",
    "            else:\n",
    "                print(\"\\n########################\")\n",
    "                print(\"        Unknown\")\n",
    "                print(\"########################\")\n",
    "                if (save==1):\n",
    "                    df = df.append(pd.DataFrame([[hash_,today]],columns=[\"hash\",\"date\"]), ignore_index=True,sort=False)\n",
    "                    df.to_csv(\"record.csv\", index=False, encoding=\"utf-8\")    \n",
    "                    print(\"\\nSaved to the record.\")\n",
    "                else:\n",
    "                    print(\"\\nThis has was NOT saved to the record csv. Set save=1 to save.\")\n",
    "\n",
    "        else:\n",
    "            print(\"You left the input blank. Please try again.\")"
   ]
  },
  {
   "cell_type": "markdown",
   "id": "219029c8",
   "metadata": {},
   "source": [
    "Re-run this cell to rerun the tool."
   ]
  },
  {
   "cell_type": "code",
   "execution_count": null,
   "id": "31a9ded6",
   "metadata": {},
   "outputs": [],
   "source": [
    "i_knew_it(save=0)"
   ]
  },
  {
   "cell_type": "code",
   "execution_count": null,
   "id": "ac829f52",
   "metadata": {},
   "outputs": [],
   "source": []
  }
 ],
 "metadata": {
  "kernelspec": {
   "display_name": "Python 3",
   "language": "python",
   "name": "python3"
  },
  "language_info": {
   "codemirror_mode": {
    "name": "ipython",
    "version": 3
   },
   "file_extension": ".py",
   "mimetype": "text/x-python",
   "name": "python",
   "nbconvert_exporter": "python",
   "pygments_lexer": "ipython3",
   "version": "3.8.8"
  }
 },
 "nbformat": 4,
 "nbformat_minor": 5
}
